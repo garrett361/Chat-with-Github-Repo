{
 "cells": [
  {
   "cell_type": "code",
   "execution_count": 206,
   "id": "bab6bc87",
   "metadata": {},
   "outputs": [],
   "source": [
    "import os\n",
    "from collections import deque\n",
    "import openai\n",
    "import streamlit as st\n",
    "import tiktoken\n",
    "from dotenv import load_dotenv\n",
    "from langchain.chains import RetrievalQA\n",
    "from langchain.chat_models import ChatOpenAI\n",
    "from langchain.embeddings.openai import OpenAIEmbeddings\n",
    "from langchain.vectorstores import DeepLake\n",
    "from streamlit_chat import message\n",
    "from langchain.callbacks.base import CallbackManager\n",
    "from langchain.callbacks.streaming_stdout import StreamingStdOutCallbackHandler\n",
    "from langchain.schema import HumanMessage, AIMessage, SystemMessage\n",
    "from langchain.document_loaders import TextLoader\n",
    "from langchain.embeddings.openai import OpenAIEmbeddings\n",
    "from langchain.text_splitter import RecursiveCharacterTextSplitter\n",
    "\n",
    "\n",
    "\n",
    "MODEL = \"gpt-3.5-turbo\"\n"
   ]
  },
  {
   "cell_type": "code",
   "execution_count": 207,
   "id": "25894825",
   "metadata": {},
   "outputs": [
    {
     "data": {
      "text/plain": [
       "True"
      ]
     },
     "execution_count": 207,
     "metadata": {},
     "output_type": "execute_result"
    }
   ],
   "source": [
    "load_dotenv()\n"
   ]
  },
  {
   "cell_type": "code",
   "execution_count": 208,
   "id": "3f8cffe6",
   "metadata": {},
   "outputs": [],
   "source": [
    "openai.api_key = os.environ.get(\"OPENAI_API_KEY\")\n",
    "active_loop_data_set_path = os.environ.get(\"DEEPLAKE_DATASET_PATH\")"
   ]
  },
  {
   "cell_type": "markdown",
   "id": "044c1530",
   "metadata": {},
   "source": [
    "# Building a Vector Store"
   ]
  },
  {
   "cell_type": "code",
   "execution_count": 210,
   "id": "47d35995",
   "metadata": {},
   "outputs": [],
   "source": [
    "def load_docs(root_dir, github_base_url=None, splitter=None):\n",
    "    docs = []\n",
    "    for dirpath, dirnames, filenames in os.walk(root_dir):\n",
    "        for file in filenames:\n",
    "            if file.split(\".\")[-1] not in (\n",
    "                                \"png\",\n",
    "                \"jpg\",\n",
    "                \"ico\",\n",
    "                \"svg\",\n",
    "                \"bin\",\n",
    "                \"woff2\",\n",
    "                \"woff\",\n",
    "                \"h5\",\n",
    "                \"pkl\",\n",
    "                \"path\",\n",
    "                \"index\",\n",
    "                \"ttf\",\n",
    "                \"gif\",\n",
    "                \"jpeg\",\n",
    "                \"otf\",\n",
    "                \"zip\",\n",
    "                \"idx\",\n",
    "                \"pt\",\n",
    "                \"pth\",\n",
    "                \"meta\",\n",
    "                \"eot\",\n",
    "                \"map\",\n",
    "            ):\n",
    "                try:\n",
    "                    path = os.path.join(dirpath, file)\n",
    "                    loader = TextLoader(path, encoding=\"utf-8\")\n",
    "                    split_docs = loader.load_and_split(splitter)\n",
    "                    if github_base_url is not None:\n",
    "                        for doc in split_docs:\n",
    "                            doc.metadata[\"url\"] = (\n",
    "                                github_base_url + path[len(root_dir) :]\n",
    "                            )\n",
    "                    docs.extend(split_docs)\n",
    "                except Exception as e:\n",
    "                    print(\n",
    "                        f\"Exception {e} raised for file {file} but ignored; continuing.\"\n",
    "                    )\n",
    "    return docs\n"
   ]
  },
  {
   "cell_type": "code",
   "execution_count": null,
   "id": "95f2350d",
   "metadata": {},
   "outputs": [],
   "source": [
    "docs = load_docs(\"determined/\", \"https://github.com/determined-ai/determined/blob/main/\", splitter=RecursiveCharacterTextSplitter(chunk_size=10000, chunk_overlap=0))"
   ]
  },
  {
   "cell_type": "code",
   "execution_count": null,
   "id": "fc7604ba",
   "metadata": {},
   "outputs": [],
   "source": [
    "len(docs)"
   ]
  },
  {
   "cell_type": "code",
   "execution_count": 201,
   "id": "97feafeb",
   "metadata": {},
   "outputs": [
    {
     "data": {
      "text/plain": [
       "465882"
      ]
     },
     "execution_count": 201,
     "metadata": {},
     "output_type": "execute_result"
    }
   ],
   "source": [
    "len(docs)"
   ]
  },
  {
   "cell_type": "code",
   "execution_count": 153,
   "id": "cd1af9a0",
   "metadata": {},
   "outputs": [
    {
     "name": "stderr",
     "output_type": "stream",
     "text": [
      "/"
     ]
    },
    {
     "name": "stdout",
     "output_type": "stream",
     "text": [
      "This dataset can be visualized in Jupyter Notebook by ds.visualize() or at https://app.activeloop.ai/garrett361/chat_with_determined\n",
      "\n"
     ]
    },
    {
     "name": "stderr",
     "output_type": "stream",
     "text": [
      "\\"
     ]
    },
    {
     "name": "stdout",
     "output_type": "stream",
     "text": [
      "hub://garrett361/chat_with_determined loaded successfully.\n",
      "\n"
     ]
    },
    {
     "name": "stderr",
     "output_type": "stream",
     "text": [
      "\r",
      " \r",
      "\r",
      " \r",
      "Deep Lake Dataset in hub://garrett361/chat_with_determined already exists, loading from the storage\n"
     ]
    },
    {
     "name": "stdout",
     "output_type": "stream",
     "text": [
      "Dataset(path='hub://garrett361/chat_with_determined', read_only=True, tensors=['embedding', 'ids', 'metadata', 'text'])\n",
      "\n",
      "  tensor     htype       shape       dtype  compression\n",
      "  -------   -------     -------     -------  ------- \n",
      " embedding  generic  (43545, 1536)  float32   None   \n",
      "    ids      text     (43545, 1)      str     None   \n",
      " metadata    json     (43545, 1)      str     None   \n",
      "   text      text     (43545, 1)      str     None   \n"
     ]
    }
   ],
   "source": [
    "DB = DeepLake(\n",
    "    dataset_path=active_loop_data_set_path,\n",
    "    read_only=True,\n",
    "    embedding_function=OpenAIEmbeddings(),\n",
    ")\n"
   ]
  },
  {
   "cell_type": "code",
   "execution_count": 156,
   "id": "cd8e5eee",
   "metadata": {},
   "outputs": [
    {
     "ename": "TypeError",
     "evalue": "object of type 'DeepLake' has no len()",
     "output_type": "error",
     "traceback": [
      "\u001b[0;31m---------------------------------------------------------------------------\u001b[0m",
      "\u001b[0;31mTypeError\u001b[0m                                 Traceback (most recent call last)",
      "Input \u001b[0;32mIn [156]\u001b[0m, in \u001b[0;36m<cell line: 1>\u001b[0;34m()\u001b[0m\n\u001b[0;32m----> 1\u001b[0m \u001b[38;5;28;43mlen\u001b[39;49m\u001b[43m(\u001b[49m\u001b[43mDB\u001b[49m\u001b[43m)\u001b[49m\n",
      "\u001b[0;31mTypeError\u001b[0m: object of type 'DeepLake' has no len()"
     ]
    }
   ],
   "source": [
    "len(DB)"
   ]
  },
  {
   "cell_type": "code",
   "execution_count": 186,
   "id": "9a300831",
   "metadata": {},
   "outputs": [
    {
     "data": {
      "text/plain": [
       "deeplake.core.tensor.Tensor"
      ]
     },
     "execution_count": 186,
     "metadata": {},
     "output_type": "execute_result"
    }
   ],
   "source": [
    "type(DB.ds[10].tensors[\"metadata\"])"
   ]
  },
  {
   "cell_type": "code",
   "execution_count": 178,
   "id": "a9d77621",
   "metadata": {},
   "outputs": [
    {
     "name": "stderr",
     "output_type": "stream",
     "text": [
      "  0%|                                                                                                                                                                                                | 0/43545 [00:00<?, ?it/s]\n"
     ]
    },
    {
     "ename": "AttributeError",
     "evalue": "'Index' object has no attribute 'data'",
     "output_type": "error",
     "traceback": [
      "\u001b[0;31m---------------------------------------------------------------------------\u001b[0m",
      "\u001b[0;31mAttributeError\u001b[0m                            Traceback (most recent call last)",
      "Input \u001b[0;32mIn [178]\u001b[0m, in \u001b[0;36m<cell line: 1>\u001b[0;34m()\u001b[0m\n\u001b[0;32m----> 1\u001b[0m \u001b[43mDB\u001b[49m\u001b[38;5;241;43m.\u001b[39;49m\u001b[43mds\u001b[49m\u001b[38;5;241;43m.\u001b[39;49m\u001b[43mfilter\u001b[49m\u001b[43m(\u001b[49m\u001b[38;5;28;43;01mlambda\u001b[39;49;00m\u001b[43m \u001b[49m\u001b[43msample\u001b[49m\u001b[43m:\u001b[49m\u001b[43m \u001b[49m\u001b[43msample\u001b[49m\u001b[38;5;241;43m.\u001b[39;49m\u001b[43mindex\u001b[49m\u001b[38;5;241;43m.\u001b[39;49m\u001b[43mdata\u001b[49m\u001b[43m \u001b[49m\u001b[38;5;241;43m<\u001b[39;49m\u001b[43m \u001b[49m\u001b[38;5;241;43m10\u001b[39;49m\u001b[43m)\u001b[49m\n",
      "File \u001b[0;32m~/miniforge3/envs/jupyter/lib/python3.8/site-packages/humbug/report.py:487\u001b[0m, in \u001b[0;36mHumbugReporter.record_call.<locals>.wrapped_callable\u001b[0;34m(*args, **kwargs)\u001b[0m\n\u001b[1;32m    483\u001b[0m     parameters[\u001b[38;5;124m\"\u001b[39m\u001b[38;5;124marg.\u001b[39m\u001b[38;5;132;01m{}\u001b[39;00m\u001b[38;5;124m\"\u001b[39m\u001b[38;5;241m.\u001b[39mformat(i)] \u001b[38;5;241m=\u001b[39m arg\n\u001b[1;32m    485\u001b[0m \u001b[38;5;28mself\u001b[39m\u001b[38;5;241m.\u001b[39mfeature_report(callable\u001b[38;5;241m.\u001b[39m\u001b[38;5;18m__name__\u001b[39m, parameters)\n\u001b[0;32m--> 487\u001b[0m \u001b[38;5;28;01mreturn\u001b[39;00m \u001b[43mcallable\u001b[49m\u001b[43m(\u001b[49m\u001b[38;5;241;43m*\u001b[39;49m\u001b[43margs\u001b[49m\u001b[43m,\u001b[49m\u001b[43m \u001b[49m\u001b[38;5;241;43m*\u001b[39;49m\u001b[38;5;241;43m*\u001b[39;49m\u001b[43mkwargs\u001b[49m\u001b[43m)\u001b[49m\n",
      "File \u001b[0;32m~/miniforge3/envs/jupyter/lib/python3.8/site-packages/deeplake/core/dataset/dataset.py:1947\u001b[0m, in \u001b[0;36mDataset.filter\u001b[0;34m(self, function, num_workers, scheduler, progressbar, save_result, result_path, result_ds_args)\u001b[0m\n\u001b[1;32m   1944\u001b[0m \u001b[38;5;28;01mfrom\u001b[39;00m \u001b[38;5;21;01mdeeplake\u001b[39;00m\u001b[38;5;21;01m.\u001b[39;00m\u001b[38;5;21;01mcore\u001b[39;00m\u001b[38;5;21;01m.\u001b[39;00m\u001b[38;5;21;01mquery\u001b[39;00m \u001b[38;5;28;01mimport\u001b[39;00m filter_dataset, query_dataset\n\u001b[1;32m   1946\u001b[0m fn \u001b[38;5;241m=\u001b[39m query_dataset \u001b[38;5;28;01mif\u001b[39;00m \u001b[38;5;28misinstance\u001b[39m(function, \u001b[38;5;28mstr\u001b[39m) \u001b[38;5;28;01melse\u001b[39;00m filter_dataset\n\u001b[0;32m-> 1947\u001b[0m ret \u001b[38;5;241m=\u001b[39m \u001b[43mfn\u001b[49m\u001b[43m(\u001b[49m\n\u001b[1;32m   1948\u001b[0m \u001b[43m    \u001b[49m\u001b[38;5;28;43mself\u001b[39;49m\u001b[43m,\u001b[49m\n\u001b[1;32m   1949\u001b[0m \u001b[43m    \u001b[49m\u001b[43mfunction\u001b[49m\u001b[43m,\u001b[49m\n\u001b[1;32m   1950\u001b[0m \u001b[43m    \u001b[49m\u001b[43mnum_workers\u001b[49m\u001b[38;5;241;43m=\u001b[39;49m\u001b[43mnum_workers\u001b[49m\u001b[43m,\u001b[49m\n\u001b[1;32m   1951\u001b[0m \u001b[43m    \u001b[49m\u001b[43mscheduler\u001b[49m\u001b[38;5;241;43m=\u001b[39;49m\u001b[43mscheduler\u001b[49m\u001b[43m,\u001b[49m\n\u001b[1;32m   1952\u001b[0m \u001b[43m    \u001b[49m\u001b[43mprogressbar\u001b[49m\u001b[38;5;241;43m=\u001b[39;49m\u001b[43mprogressbar\u001b[49m\u001b[43m,\u001b[49m\n\u001b[1;32m   1953\u001b[0m \u001b[43m    \u001b[49m\u001b[43msave_result\u001b[49m\u001b[38;5;241;43m=\u001b[39;49m\u001b[43msave_result\u001b[49m\u001b[43m,\u001b[49m\n\u001b[1;32m   1954\u001b[0m \u001b[43m    \u001b[49m\u001b[43mresult_path\u001b[49m\u001b[38;5;241;43m=\u001b[39;49m\u001b[43mresult_path\u001b[49m\u001b[43m,\u001b[49m\n\u001b[1;32m   1955\u001b[0m \u001b[43m    \u001b[49m\u001b[43mresult_ds_args\u001b[49m\u001b[38;5;241;43m=\u001b[39;49m\u001b[43mresult_ds_args\u001b[49m\u001b[43m,\u001b[49m\n\u001b[1;32m   1956\u001b[0m \u001b[43m\u001b[49m\u001b[43m)\u001b[49m\n\u001b[1;32m   1957\u001b[0m dataset_read(\u001b[38;5;28mself\u001b[39m)\n\u001b[1;32m   1958\u001b[0m \u001b[38;5;28;01mreturn\u001b[39;00m ret\n",
      "File \u001b[0;32m~/miniforge3/envs/jupyter/lib/python3.8/site-packages/deeplake/core/query/filter.py:103\u001b[0m, in \u001b[0;36mfilter_dataset\u001b[0;34m(dataset, filter_function, num_workers, scheduler, progressbar, save_result, result_path, result_ds_args)\u001b[0m\n\u001b[1;32m    101\u001b[0m     \u001b[38;5;28;01mif\u001b[39;00m vds:\n\u001b[1;32m    102\u001b[0m         vds\u001b[38;5;241m.\u001b[39minfo[\u001b[38;5;124m\"\u001b[39m\u001b[38;5;124merror\u001b[39m\u001b[38;5;124m\"\u001b[39m] \u001b[38;5;241m=\u001b[39m \u001b[38;5;28mstr\u001b[39m(e)\n\u001b[0;32m--> 103\u001b[0m     \u001b[38;5;28;01mraise\u001b[39;00m e\n\u001b[1;32m    105\u001b[0m ds \u001b[38;5;241m=\u001b[39m dataset[index_map]\n\u001b[1;32m    106\u001b[0m ds\u001b[38;5;241m.\u001b[39m_is_filtered_view \u001b[38;5;241m=\u001b[39m \u001b[38;5;28;01mTrue\u001b[39;00m\n",
      "File \u001b[0;32m~/miniforge3/envs/jupyter/lib/python3.8/site-packages/deeplake/core/query/filter.py:93\u001b[0m, in \u001b[0;36mfilter_dataset\u001b[0;34m(dataset, filter_function, num_workers, scheduler, progressbar, save_result, result_path, result_ds_args)\u001b[0m\n\u001b[1;32m     83\u001b[0m         index_map \u001b[38;5;241m=\u001b[39m filter_with_compute(\n\u001b[1;32m     84\u001b[0m             dataset,\n\u001b[1;32m     85\u001b[0m             filter_function,\n\u001b[0;32m   (...)\u001b[0m\n\u001b[1;32m     90\u001b[0m             vds,\n\u001b[1;32m     91\u001b[0m         )\n\u001b[1;32m     92\u001b[0m     \u001b[38;5;28;01melse\u001b[39;00m:\n\u001b[0;32m---> 93\u001b[0m         index_map \u001b[38;5;241m=\u001b[39m \u001b[43mfilter_inplace\u001b[49m\u001b[43m(\u001b[49m\n\u001b[1;32m     94\u001b[0m \u001b[43m            \u001b[49m\u001b[43mdataset\u001b[49m\u001b[43m,\u001b[49m\n\u001b[1;32m     95\u001b[0m \u001b[43m            \u001b[49m\u001b[43mfilter_function\u001b[49m\u001b[43m,\u001b[49m\n\u001b[1;32m     96\u001b[0m \u001b[43m            \u001b[49m\u001b[43mprogressbar\u001b[49m\u001b[43m,\u001b[49m\n\u001b[1;32m     97\u001b[0m \u001b[43m            \u001b[49m\u001b[43mquery_text\u001b[49m\u001b[43m,\u001b[49m\n\u001b[1;32m     98\u001b[0m \u001b[43m            \u001b[49m\u001b[43mvds\u001b[49m\u001b[43m,\u001b[49m\n\u001b[1;32m     99\u001b[0m \u001b[43m        \u001b[49m\u001b[43m)\u001b[49m\n\u001b[1;32m    100\u001b[0m \u001b[38;5;28;01mexcept\u001b[39;00m \u001b[38;5;167;01mException\u001b[39;00m \u001b[38;5;28;01mas\u001b[39;00m e:\n\u001b[1;32m    101\u001b[0m     \u001b[38;5;28;01mif\u001b[39;00m vds:\n",
      "File \u001b[0;32m~/miniforge3/envs/jupyter/lib/python3.8/site-packages/deeplake/core/query/filter.py:319\u001b[0m, in \u001b[0;36mfilter_inplace\u001b[0;34m(dataset, filter_function, progressbar, query_text, vds)\u001b[0m\n\u001b[1;32m    311\u001b[0m     \u001b[38;5;28;01mif\u001b[39;00m vds:\n\u001b[1;32m    312\u001b[0m         dataset\u001b[38;5;241m.\u001b[39m_send_query_progress(\n\u001b[1;32m    313\u001b[0m             query_text\u001b[38;5;241m=\u001b[39mquery_text,\n\u001b[1;32m    314\u001b[0m             query_id\u001b[38;5;241m=\u001b[39mquery_id,\n\u001b[0;32m   (...)\u001b[0m\n\u001b[1;32m    317\u001b[0m             status\u001b[38;5;241m=\u001b[39m\u001b[38;5;124m\"\u001b[39m\u001b[38;5;124mfailed\u001b[39m\u001b[38;5;124m\"\u001b[39m,\n\u001b[1;32m    318\u001b[0m         )\n\u001b[0;32m--> 319\u001b[0m     \u001b[38;5;28;01mraise\u001b[39;00m (e)\n\u001b[1;32m    320\u001b[0m \u001b[38;5;28;01mfinally\u001b[39;00m:\n\u001b[1;32m    321\u001b[0m     _del_counter(query_id)\n",
      "File \u001b[0;32m~/miniforge3/envs/jupyter/lib/python3.8/site-packages/deeplake/core/query/filter.py:289\u001b[0m, in \u001b[0;36mfilter_inplace\u001b[0;34m(dataset, filter_function, progressbar, query_text, vds)\u001b[0m\n\u001b[1;32m    287\u001b[0m \u001b[38;5;28;01mtry\u001b[39;00m:\n\u001b[1;32m    288\u001b[0m     \u001b[38;5;28;01mfor\u001b[39;00m i, sample_in \u001b[38;5;129;01min\u001b[39;00m it:\n\u001b[0;32m--> 289\u001b[0m         \u001b[38;5;28;01mif\u001b[39;00m \u001b[43mfilter_function\u001b[49m\u001b[43m(\u001b[49m\u001b[43msample_in\u001b[49m\u001b[43m)\u001b[49m:\n\u001b[1;32m    290\u001b[0m             index_map\u001b[38;5;241m.\u001b[39mappend(i)\n\u001b[1;32m    291\u001b[0m             \u001b[38;5;28;01mif\u001b[39;00m vds:\n",
      "Input \u001b[0;32mIn [178]\u001b[0m, in \u001b[0;36m<lambda>\u001b[0;34m(sample)\u001b[0m\n\u001b[0;32m----> 1\u001b[0m DB\u001b[38;5;241m.\u001b[39mds\u001b[38;5;241m.\u001b[39mfilter(\u001b[38;5;28;01mlambda\u001b[39;00m sample: \u001b[43msample\u001b[49m\u001b[38;5;241;43m.\u001b[39;49m\u001b[43mindex\u001b[49m\u001b[38;5;241;43m.\u001b[39;49m\u001b[43mdata\u001b[49m \u001b[38;5;241m<\u001b[39m \u001b[38;5;241m10\u001b[39m)\n",
      "\u001b[0;31mAttributeError\u001b[0m: 'Index' object has no attribute 'data'"
     ]
    }
   ],
   "source": [
    "DB.ds.filter(lambda sample: sample.index.data < 10)"
   ]
  },
  {
   "cell_type": "code",
   "execution_count": null,
   "id": "7bf9a991",
   "metadata": {},
   "outputs": [],
   "source": []
  }
 ],
 "metadata": {
  "kernelspec": {
   "display_name": "Python 3 (ipykernel)",
   "language": "python",
   "name": "python3"
  },
  "language_info": {
   "codemirror_mode": {
    "name": "ipython",
    "version": 3
   },
   "file_extension": ".py",
   "mimetype": "text/x-python",
   "name": "python",
   "nbconvert_exporter": "python",
   "pygments_lexer": "ipython3",
   "version": "3.8.13"
  }
 },
 "nbformat": 4,
 "nbformat_minor": 5
}
